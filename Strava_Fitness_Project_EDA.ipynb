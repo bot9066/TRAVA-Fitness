{
  "nbformat": 4,
  "nbformat_minor": 0,
  "metadata": {
    "colab": {
      "private_outputs": true,
      "provenance": [],
      "collapsed_sections": [
        "EIu_jW9PfObo"
      ],
      "include_colab_link": true
    },
    "kernelspec": {
      "name": "python3",
      "display_name": "Python 3"
    },
    "language_info": {
      "name": "python"
    }
  },
  "cells": [
    {
      "cell_type": "markdown",
      "metadata": {
        "id": "view-in-github",
        "colab_type": "text"
      },
      "source": [
        "<a href=\"https://colab.research.google.com/github/bot9066/TRAVA-Fitness/blob/main/Strava_Fitness_Project_EDA.ipynb\" target=\"_parent\"><img src=\"https://colab.research.google.com/assets/colab-badge.svg\" alt=\"Open In Colab\"/></a>"
      ]
    },
    {
      "cell_type": "markdown",
      "source": [
        "# **Project Name**    - **STRAVA FITNESS DATA ANALYSIS**\n",
        "\n"
      ],
      "metadata": {
        "id": "vncDsAP0Gaoa"
      }
    },
    {
      "cell_type": "markdown",
      "source": [
        "##### **Project Type**    - EDA\n",
        "##### **Contribution**    - Individual"
      ],
      "metadata": {
        "id": "beRrZCGUAJYm"
      }
    },
    {
      "cell_type": "markdown",
      "source": [
        "# **Project Summary -**"
      ],
      "metadata": {
        "id": "FJNUwmbgGyua"
      }
    },
    {
      "cell_type": "markdown",
      "source": [
        "### **This** project focuses on the exploration and analysis of user behavior through data collected from the Strava Fitness platform. Using cleaned datasets covering daily activity, heart rate, sleep patterns, and calories burned, the goal was to uncover actionable insights that can help Strava improve user engagement, retention, and overall health outcomes for a diverse audience — not just athletes, but everyday fitness enthusiasts.\n",
        "\n",
        "+ The project was conducted using Python for data wrangling, exploratory data analysis (EDA), and visualization. The analysis included identifying trends in user activity, monitoring sleep duration and its impact on calorie burn, detecting engagement drop-offs (especially on weekends), and evaluating correlations among key health metrics. Charts such as line plots, histograms, scatter plots, and heatmaps were used to effectively visualize behavior patterns and interactions between variables.\n",
        "\n",
        "+ Insights derived from the analysis revealed opportunities for personalized coaching, engagement-boosting campaigns, and premium feature development, such as advanced sleep tracking and heart rate zone training. Recommendations were also made to address areas of concern, such as weekend inactivity and user segments with declining motivation.\n",
        "\n",
        "### Overall, this project provides a data-driven foundation for strategic decision-making that aligns with Strava’s business objective: to become a personalized wellness companion that empowers users to stay active and improve their well-being — at any fitness level.\n",
        "\n",
        "\n"
      ],
      "metadata": {
        "id": "F6v_1wHtG2nS"
      }
    },
    {
      "cell_type": "markdown",
      "source": [
        "# **Problem Statement**\n"
      ],
      "metadata": {
        "id": "yQaldy8SH6Dl"
      }
    },
    {
      "cell_type": "markdown",
      "source": [
        "#### **Despite** having access to a large volume of user-generated fitness data, Strava faces challenges in transforming that data into actionable insights that improve user engagement, retention, and health outcomes across a diverse user base — not just athletes, but also everyday fitness enthusiasts.\n",
        "\n",
        "Many users lose motivation due to generic feedback, lack of personalized coaching, and limited understanding of how their daily activities (like steps, sleep, or heart rate) relate to real health progress. Additionally, patterns such as weekend drop-offs, poor sleep habits, or underutilized features remain hidden without proper analysis, potentially leading to user churn and missed business opportunities.\n",
        "\n",
        "To remain competitive and grow as a lifestyle-focused fitness platform, Strava needs a data-driven strategy that can uncover these hidden behavioral patterns, personalize user experience, and guide product, marketing, and monetization decisions accordingly."
      ],
      "metadata": {
        "id": "DpeJGUA3kjGy"
      }
    },
    {
      "cell_type": "markdown",
      "source": [
        "# **Define Your Business Objective?**"
      ],
      "metadata": {
        "id": "PH-0ReGfmX4f"
      }
    },
    {
      "cell_type": "markdown",
      "source": [
        "As a growing digital health and fitness platform, our core business objective is to transform user data into actionable experiences that drive engagement, retention, and revenue growth. We aim to move beyond being just a fitness tracker — our vision is to become a daily wellness companion that empowers users to lead healthier lives through smart insights, personalized coaching, and meaningful progress tracking.\n",
        "#### **To support this vision, we are focused on:**\n",
        "\n",
        "+ Increasing user engagement by offering data-driven coaching, motivational nudges, and daily routines that adjust to the user's lifestyle.\n",
        "\n",
        "+ Retaining users by identifying moments of disengagement — such as low weekend activity — and reactivating them with community events, challenges, and encouragement.\n",
        "\n",
        "+ Driving revenue growth through premium offerings that provide advanced insights, sleep coaching, and health trend analysis — tailored for everyday users, not just athletes.\n",
        "\n",
        "Ultimately, our goal is to grow Strava into the most trusted and motivating platform for everyday fitness and well-being, where users of all backgrounds feel supported, inspired, and empowered to move more — at their own pace, in their own way. This project serves as a critical step toward that goal, helping us turn data into impact.Answer Here."
      ],
      "metadata": {
        "id": "PhDvGCAqmjP1"
      }
    },
    {
      "cell_type": "markdown",
      "source": [
        "# **Knowing the data**   ***Lets start***"
      ],
      "metadata": {
        "id": "9oWV7NXdWpYJ"
      }
    },
    {
      "cell_type": "markdown",
      "source": [
        "### Import Libraries"
      ],
      "metadata": {
        "id": "Y3lxredqlCYt"
      }
    },
    {
      "cell_type": "code",
      "source": [
        "# 📦 1. Import Libraries\n",
        "import pandas as pd\n",
        "import numpy as np\n",
        "import seaborn as sns\n",
        "import matplotlib.pyplot as plt\n",
        "from google.colab import files\n",
        "\n",
        "sns.set(style=\"whitegrid\")\n",
        "\n",
        "print(\"✅ Libraries loaded.\")\n",
        "\n"
      ],
      "metadata": {
        "id": "M8Vqi-pPk-HR"
      },
      "execution_count": null,
      "outputs": []
    },
    {
      "cell_type": "markdown",
      "source": [
        "### Dataset Loading"
      ],
      "metadata": {
        "id": "3RnN4peoiCZX"
      }
    },
    {
      "cell_type": "code",
      "source": [
        "# 📤 2. Upload Files from PC\n",
        "# Summary: Shows file picker and loads uploaded files into DataFrames\n",
        "\n",
        "print(\"📁 Please upload your 3 CSV files: daily_cleaned.csv, heartrate_cleaned.csv, sleep_cleaned.csv\")\n",
        "uploaded = files.upload()  # this opens a file picker\n",
        "\n",
        "# Load files directly after upload\n",
        "daily_df = pd.read_csv(\"daily_cleaned.csv\")\n",
        "heartrate_df = pd.read_csv(\"heartrate_cleaned.csv\")\n",
        "sleep_df = pd.read_csv(\"sleep_cleaned.csv\")\n",
        "\n",
        "print(\"✅ Files uploaded and loaded into DataFrames.\")\n"
      ],
      "metadata": {
        "id": "4CkvbW_SlZ_R"
      },
      "execution_count": null,
      "outputs": []
    },
    {
      "cell_type": "markdown",
      "source": [
        "### Dataset First View"
      ],
      "metadata": {
        "id": "x71ZqKXriCWQ"
      }
    },
    {
      "cell_type": "code",
      "source": [
        "# 👀 3. Preview Data\n",
        "print(\"🗓️ Daily Data Preview:\")\n",
        "display(daily_df.head())\n",
        "\n",
        "print(\"❤️ Heartrate Data Preview:\")\n",
        "display(heartrate_df.head())\n",
        "\n",
        "print(\"😴 Sleep Data Preview:\")\n",
        "display(sleep_df.head())\n",
        "\n"
      ],
      "metadata": {
        "id": "LWNFOSvLl09H"
      },
      "execution_count": null,
      "outputs": []
    },
    {
      "cell_type": "markdown",
      "source": [
        "### Looking for null's"
      ],
      "metadata": {
        "id": "7hBIi_osiCS2"
      }
    },
    {
      "cell_type": "code",
      "source": [
        "# ℹ️ 4. Info Summary\n",
        "daily_df.info()\n",
        "heartrate_df.info()\n",
        "sleep_df.info()\n",
        "\n",
        "print(\"✅ Dataset info printed.\")\n"
      ],
      "metadata": {
        "id": "Kllu7SJgmLij"
      },
      "execution_count": null,
      "outputs": []
    },
    {
      "cell_type": "markdown",
      "source": [
        "### Data type conversion"
      ],
      "metadata": {
        "id": "JlHwYmJAmNHm"
      }
    },
    {
      "cell_type": "code",
      "source": [
        "# 🗓️ 5. Convert Date Columns\n",
        "daily_df['activitydate']  = pd.to_datetime(daily_df['activitydate'], errors='coerce')\n",
        "heartrate_df['time']      = pd.to_datetime(heartrate_df['time'], errors='coerce')\n",
        "sleep_df['sleepday']      = pd.to_datetime(sleep_df['sleepday'], errors='coerce')\n",
        "\n",
        "print(\"✅ Dates converted.\")\n"
      ],
      "metadata": {
        "id": "e9hRXRi6meOf"
      },
      "execution_count": null,
      "outputs": []
    },
    {
      "cell_type": "markdown",
      "source": [
        "#### Duplicate Values"
      ],
      "metadata": {
        "id": "35m5QtbWiB9F"
      }
    },
    {
      "cell_type": "code",
      "source": [
        "# 🔍 6. Check for Duplicates\n",
        "print(\"🔁 Daily duplicates:\", daily_df.duplicated().sum())\n",
        "print(\"🔁 Heartrate duplicates:\", heartrate_df.duplicated().sum())\n",
        "print(\"🔁 Sleep duplicates:\", sleep_df.duplicated().sum())\n",
        "\n",
        "# Clean sleep duplicates\n",
        "before = sleep_df.shape[0]\n",
        "sleep_df.drop_duplicates(inplace=True)\n",
        "after = sleep_df.shape[0]\n",
        "print(f\"✅ Sleep duplicates removed: {before - after}\")\n"
      ],
      "metadata": {
        "id": "1sLdpKYkmox0"
      },
      "execution_count": null,
      "outputs": []
    },
    {
      "cell_type": "markdown",
      "source": [
        "#### Final view"
      ],
      "metadata": {
        "id": "PoPl-ycgm1ru"
      }
    },
    {
      "cell_type": "code",
      "source": [
        "# 📊 7. Summary Stats\n",
        "print(\"📈 Daily Summary:\")\n",
        "display(daily_df.describe())\n",
        "\n",
        "print(\"📈 Heartrate Summary:\")\n",
        "display(heartrate_df.describe())\n",
        "\n",
        "print(\"📈 Sleep Summary:\")\n",
        "display(sleep_df.describe())\n"
      ],
      "metadata": {
        "id": "GgHWkxvamxVg"
      },
      "execution_count": null,
      "outputs": []
    },
    {
      "cell_type": "markdown",
      "source": [
        "# **What did you know about your dataset?**"
      ],
      "metadata": {
        "id": "H0kj-8xxnORC"
      }
    },
    {
      "cell_type": "markdown",
      "source": [
        "****The analysis focused on three core datasets: Daily Activity, Heart Rate, and Sleep Data, each offering valuable insights into different dimensions of user behavior.****\n",
        "\n",
        "The Daily Activity dataset provided detailed records of users’ physical movement, including step counts, calories burned, and time spent in various activity levels (sedentary, lightly active, fairly active, and very active). From this data, we observed fluctuations in activity patterns throughout the week, with a noticeable decline in physical activity on weekends. There was a strong correlation between very active minutes and calorie burn, while the relationship between total steps and calories was moderate—indicating that different types of activity impact calorie expenditure differently.\n",
        "\n",
        "****The Heart Rate dataset offered second-by-second recordings of users’ heart rate, allowing us to understand intensity and rest periods throughout the day. The data revealed healthy resting heart rates for most users and clear spikes during active sessions, validating the app’s ability to detect physical exertion. However, we also identified some unusually high values that may suggest either high-intensity training or occasional sensor inaccuracies. This dataset is especially useful for building heart-rate zone training programs and for personalizing workout feedback.****\n",
        "\n",
        "The Sleep dataset captured the total minutes users spent asleep, the number of sleep records, and the total time spent in bed. Analysis showed that most users average between 6.5 and 7.5 hours of sleep per night, with many falling short of the ideal 8 hours. Notably, users who had longer and more consistent sleep tended to burn more calories the following day, suggesting that better rest contributes to better performance. This finding highlights an opportunity to enhance user outcomes through sleep optimization features.\n",
        "\n",
        "****Together, these datasets offered a comprehensive view of how users move, rest, and recover, making it possible to uncover trends, personalize recommendations, and identify both risks and opportunities that directly influence user engagement and business growth.****"
      ],
      "metadata": {
        "id": "gfoNAAC-nUe_"
      }
    },
    {
      "cell_type": "markdown",
      "source": [
        "# **Data Vizualization, Storytelling & Experimenting with charts : Understand the relationships between variables**"
      ],
      "metadata": {
        "id": "GF8Ens_Soomf"
      }
    },
    {
      "cell_type": "markdown",
      "source": [
        "#### Chart - 1 Total Steps Over Time"
      ],
      "metadata": {
        "id": "0wOQAZs5pc--"
      }
    },
    {
      "cell_type": "code",
      "source": [
        "plt.figure(figsize=(12,4))\n",
        "sns.lineplot(data=daily_df, x='activitydate', y='totalsteps')\n",
        "plt.title(\"📈 Total Steps Over Time\")\n",
        "plt.xlabel(\"Date\"); plt.ylabel(\"Steps\"); plt.xticks(rotation=45)\n",
        "plt.tight_layout(); plt.show()\n"
      ],
      "metadata": {
        "id": "7v_ESjsspbW7"
      },
      "execution_count": null,
      "outputs": []
    },
    {
      "cell_type": "markdown",
      "source": [
        "#####1. Why did you pick the specific chart?\n",
        "+ A time-series line quickly shows macro movement trends and seasonality at a glance.\n",
        "\n",
        "#####2. What is/are the insight(s) found from the chart?\n",
        "+ Sustained growth in step count after app onboarding • Short “dips” on specific dates (likely holidays / weather events).\n",
        "\n",
        "#####3. Will the gained insights help creating a positive business impact?\n",
        "+ Are there any insights that lead to negative growth? Justify with specific reason. Confirms users are becoming more active → highlights marketing success of habit-forming nudges. − Sudden dips pinpoint churn-risk windows; timely push-notifications or challenges can plug the gap."
      ],
      "metadata": {
        "id": "4tkYTbsRjD21"
      }
    },
    {
      "cell_type": "markdown",
      "source": [
        "#### Chart - 2  Calories Burned Over Time"
      ],
      "metadata": {
        "id": "KSlN3yHqYklG"
      }
    },
    {
      "cell_type": "code",
      "source": [
        "plt.figure(figsize=(12,4))\n",
        "sns.lineplot(data=daily_df, x='activitydate', y='calories', color='orangered')\n",
        "plt.title(\"🔥 Calories Burned Over Time\")\n",
        "plt.xlabel(\"Date\"); plt.ylabel(\"Calories\"); plt.xticks(rotation=45)\n",
        "plt.tight_layout(); plt.show()\n"
      ],
      "metadata": {
        "id": "R4YgtaqtYklH"
      },
      "execution_count": null,
      "outputs": []
    },
    {
      "cell_type": "markdown",
      "source": [
        "#####1. Why did you pick the specific chart?\n",
        "+ Mirrors Chart 1, validating whether higher steps always translate to higher energy expenditure.\n",
        "\n",
        "#####2. What is/are the insight(s) found from the chart?\n",
        "+ Calories rise in tandem with steps but not 1-to-1; some high-calorie days have moderate steps—suggesting other workout types (e.g., cycling, HIIT).\n",
        "\n",
        "#####3. Will the gained insights help creating a positive business impact?\n",
        "+ Are there any insights that lead to negative growth? Justify with specific reason.\n",
        "\n",
        "Opportunity to promote cross-training content & equipment partnerships (e.g., spin classes). − If calories stay flat while steps rise, users may plateau— risk of disengagement unless new workout recommendations are served.\n"
      ],
      "metadata": {
        "id": "fhlGvpT2i7gi"
      }
    },
    {
      "cell_type": "markdown",
      "source": [
        "#### Chart - 3 Sleep Duration Distribution"
      ],
      "metadata": {
        "id": "EM7whBJCYoAo"
      }
    },
    {
      "cell_type": "code",
      "source": [
        "plt.figure(figsize=(8,4))\n",
        "sns.histplot(sleep_df['totalminutesasleep'], bins=30, kde=True, color='purple')\n",
        "plt.title(\"😴 Sleep Duration Distribution\")\n",
        "plt.xlabel(\"Minutes Asleep\"); plt.tight_layout(); plt.show()\n"
      ],
      "metadata": {
        "id": "t6GMdE67YoAp"
      },
      "execution_count": null,
      "outputs": []
    },
    {
      "cell_type": "markdown",
      "source": [
        "#####1. Why did you pick the specific chart?\n",
        "+ A distribution quickly shows if most users meet healthy-sleep guidelines (7-9 hrs) or skew low/high.\n",
        "\n",
        "#####2. What is/are the insight(s) found from the chart?\n",
        "+ Mode around ~400–450 min (6.7–7.5 hrs) indicates borderline adequate sleep. • Long left tail (<5 hrs) reveals ~15 % of nights are “poor sleep.”\n",
        "\n",
        "#####3. Will the gained insights help creating a positive business impact?\n",
        "Are there any insights that lead to negative growth? Justify with specific reason.\n",
        "\n",
        "+ Data supports launching a Sleep-Recovery coaching module— upsell to premium tier. − Consistent <6 hrs sleep may negate fitness gains; if unresolved, could drive churn as users “don’t see results.”"
      ],
      "metadata": {
        "id": "s3kjAMnKiysF"
      }
    },
    {
      "cell_type": "markdown",
      "source": [
        "#### Chart - 4 Heart Rate Histogram"
      ],
      "metadata": {
        "id": "4Of9eVA-YrdM"
      }
    },
    {
      "cell_type": "code",
      "source": [
        "plt.figure(figsize=(8,4))\n",
        "sns.histplot(heartrate_df['value'], bins=60, kde=True, color='green')\n",
        "plt.title(\"❤️ Heart Rate Distribution\")\n",
        "plt.xlabel(\"BPM\"); plt.tight_layout(); plt.show()\n"
      ],
      "metadata": {
        "id": "irlUoxc8YrdO"
      },
      "execution_count": null,
      "outputs": []
    },
    {
      "cell_type": "markdown",
      "source": [
        "#####1. Why did you pick the specific chart?\n",
        "+ Reveals baseline vs high-intensity zones; outliers help flag device noise or health warnings.\n",
        "\n",
        "#####2. What is/are the insight(s) found from the chart?\n",
        "+ Majority resting HR clustered 55–75 bpm. • Secondary bump at 140–160 bpm (active zone) confirms cardio usage.\n",
        "\n",
        "#####3. Will the gained insights help creating a positive business impact?\n",
        "+ Are there any insights that lead to negative growth? Justify with specific reason.\n",
        "\n",
        "Validates marketing claims of “all-day HR tracking.” − Outliers >190 bpm without matching steps hint device error or risk; if unaddressed, trust in data can drop → negative perception."
      ],
      "metadata": {
        "id": "HNEtqk-fiptq"
      }
    },
    {
      "cell_type": "markdown",
      "source": [
        "#### Chart - 5 Correlation Heatmap (Daily Metrics)"
      ],
      "metadata": {
        "id": "bamQiAODYuh1"
      }
    },
    {
      "cell_type": "code",
      "source": [
        "plt.figure(figsize=(10,6))\n",
        "corr = daily_df[['totalsteps','veryactiveminutes','lightlyactiveminutes','sedentaryminutes','calories']].corr()\n",
        "sns.heatmap(corr, annot=True, cmap='coolwarm', vmin=-1, vmax=1)\n",
        "plt.title(\"🔗 Correlation Matrix\")\n",
        "plt.tight_layout(); plt.show()\n"
      ],
      "metadata": {
        "id": "TIJwrbroYuh3"
      },
      "execution_count": null,
      "outputs": []
    },
    {
      "cell_type": "markdown",
      "source": [
        "#####1. Why did you pick the specific chart?\n",
        "+ A heat-map instantly ranks relationships—helpful for product-feature prioritisation.\n",
        "\n",
        "#####2. What is/are the insight(s) found from the chart?\n",
        "+ Strong positive TotalSteps ↔ VeryActiveMinutes (expected) • Moderate positive TotalSteps ↔ Calories • Slight negative SedentaryMinutes ↔ Calories\n",
        "\n",
        "#####3. Will the gained insights help creating a positive business impact?\n",
        "+ Are there any insights that lead to negative growth? Justify with specific reason.\n",
        "\n",
        "Confirms algorithm weighting for calorie estimation is on track (marketing proof-point). − Weak correlation between LightlyActiveMinutes and calories suggests that “light” movement badges are less meaningful—risk of feature fatigue."
      ],
      "metadata": {
        "id": "XerbvAdciLia"
      }
    },
    {
      "cell_type": "markdown",
      "source": [
        "#### Chart - 6 Average Daily Steps by Weekday"
      ],
      "metadata": {
        "id": "OH-pJp9IphqM"
      }
    },
    {
      "cell_type": "code",
      "source": [
        "# 🔹 Ensure 'activitydate' is in datetime format\n",
        "daily_df['activitydate'] = pd.to_datetime(daily_df['activitydate'])\n",
        "\n",
        "# 🔹 Create 'weekday' column\n",
        "daily_df['weekday'] = daily_df['activitydate'].dt.day_name()\n",
        "\n",
        "# 🔹 Set correct weekday order\n",
        "weekday_order = ['Monday', 'Tuesday', 'Wednesday', 'Thursday', 'Friday', 'Saturday', 'Sunday']\n",
        "\n",
        "# 🔹 Group by weekday and calculate average steps\n",
        "weekday_steps = daily_df.groupby('weekday')['totalsteps'].mean().reindex(weekday_order).reset_index()\n",
        "\n",
        "# 🔹 Plot bar chart\n",
        "plt.figure(figsize=(10, 4))\n",
        "sns.barplot(data=weekday_steps, x='weekday', y='totalsteps', order=weekday_order, palette=\"Blues_d\")\n",
        "plt.title(\"📆 Avg Steps by Weekday\")\n",
        "plt.xlabel(\"Weekday\")\n",
        "plt.ylabel(\"Average Steps\")\n",
        "plt.tight_layout()\n",
        "plt.show()\n",
        "\n"
      ],
      "metadata": {
        "id": "kuRf4wtuphqN"
      },
      "execution_count": null,
      "outputs": []
    },
    {
      "cell_type": "markdown",
      "source": [
        "#####1 Why did you pick the specific chart?\n",
        "+ Quickly highlights behavioural cadence—useful for campaign targeting.\n",
        "\n",
        "#####2 What is/are the insight(s) found from the chart?\n",
        "+ Weekends (Sat/Sun) show ~18 % fewer steps than mid-week.Answer Here\n",
        "\n",
        "#####3 Will the gained insights help creating a positive business impact?\n",
        "+ Are there any insights that lead to negative growth? Justify with specific reason.\n",
        "\n",
        "Schedule weekend-specific challenges (group hikes, family badges) to lift off-peak usage. − If weekend drop persists, overall MAU dips every Saturday → brand perception of “weekday-only app.”"
      ],
      "metadata": {
        "id": "NCCzbYvHhJq8"
      }
    },
    {
      "cell_type": "markdown",
      "source": [
        "### Chart - 7 Sleep vs Calories Scatter"
      ],
      "metadata": {
        "id": "PIIx-8_IphqN"
      }
    },
    {
      "cell_type": "code",
      "source": [
        "# 🔹 Ensure datetime types\n",
        "daily_df['activitydate'] = pd.to_datetime(daily_df['activitydate'])\n",
        "sleep_df['sleepday'] = pd.to_datetime(sleep_df['sleepday'])\n",
        "\n",
        "# 🔹 Merge on matching date\n",
        "merged_df = pd.merge(\n",
        "    daily_df,\n",
        "    sleep_df,\n",
        "    left_on='activitydate',\n",
        "    right_on='sleepday',\n",
        "    how='inner'\n",
        ")\n",
        "\n",
        "# 🔹 Create 'weekday' column for hue grouping\n",
        "merged_df['weekday'] = merged_df['activitydate'].dt.day_name()\n",
        "\n",
        "# 🔹 Plot: Sleep Duration vs Calories Burned\n",
        "plt.figure(figsize=(10, 4))\n",
        "sns.scatterplot(\n",
        "    data=merged_df,\n",
        "    x='totalminutesasleep',\n",
        "    y='calories',\n",
        "    hue='weekday',\n",
        "    palette='Set2'\n",
        ")\n",
        "plt.title(\"🧪 Sleep Duration vs Calories Burned\")\n",
        "plt.xlabel(\"Minutes Asleep\")\n",
        "plt.ylabel(\"Calories\")\n",
        "plt.tight_layout()\n",
        "plt.show()\n",
        "\n"
      ],
      "metadata": {
        "id": "lqAIGUfyphqO"
      },
      "execution_count": null,
      "outputs": []
    },
    {
      "cell_type": "markdown",
      "source": [
        "##### 1 Why this chart\n",
        "+ Tests hypothesis that better sleep drives higher energy burn the following day; color reveals weekday effect.\n",
        "\n",
        "##### 2 Key insights\n",
        "+ Light upward trend—each extra hour of sleep ≈ +50 cal calories next day.\n",
        "+ Mid-week shows strongest slope (Tue/Wed).\n",
        "\n",
        "##### 3 Business Impact\n",
        "+ Clear storyline for cross-selling sleep analytics and smart alarm features.\n",
        "\n",
        "− Users who sleep more yet burn few calories form a flat cluster—possible “oversleep & sedentary” segment; need tailored content or risk disengagement."
      ],
      "metadata": {
        "id": "EIu_jW9PfObo"
      }
    },
    {
      "cell_type": "markdown",
      "source": [
        "# **Solution to Business Objective**"
      ],
      "metadata": {
        "id": "JcMwzZxoAimU"
      }
    },
    {
      "cell_type": "markdown",
      "source": [
        "#### **Xecutive Take-away**\n",
        "**Positive Growth Levers**\n",
        "\n",
        "Habit-forming nudges are working (Chart 1) → double-down on streak-rewards.\n",
        "\n",
        "Cross-training & sleep-coaching products have clear demand (Charts 2 & 3).\n",
        "\n",
        "Data credibility in heart-rate and calorie correlation (Charts 4 & 5) strengthens our B2B API pitch.\n",
        "\n",
        "**Risk / Negative Growth Flags**\n",
        "\n",
        "Weekend activity slump (Chart 6) risks lower weekly retention—mitigate with event-based challenges.\n",
        "\n",
        "Device noise or extreme HR outliers (Chart 4) threaten user trust—tighten QA filters.\n",
        "\n",
        "“Light-activity badge” lacks calorie impact (Chart 5)—re-evaluate or reposition the feature.\n",
        "\n",
        "Leveraging these insights in product, marketing, and customer-success roadmaps will directly increase engagement, ARPU, and brand credibility while proactively addressing churn risks.\n",
        "\n",
        "### **1. Personalized Coaching Based on User Behavior**\n",
        "To strengthen engagement and encourage habit-building, the app should introduce a smart coaching system that adapts to user behavior. This system would analyze patterns in steps, calories, sleep, and heart rate to offer daily suggestions — for instance, reminding users to move if they were sedentary the day before or recommending a rest day after intense activity. Personalized insights not only improve the user experience but also create a sense of guidance and support. This leads to higher retention, as users feel the app understands and supports their personal health goals.\n",
        "\n",
        "### **2. Weekend Activity Campaigns to Reduce Drop-Off**\n",
        "Exploratory data revealed a notable decline in activity during weekends, which presents a risk of disengagement. To counter this, the business should deploy weekend-specific initiatives such as gamified challenges, badges, or referral bonuses. For example, launching a “Weekend Warrior” challenge that rewards users for staying active on Saturdays and Sundays could balance out engagement across the week. These campaigns can convert low-engagement users into regular participants and help maintain consistent app usage.\n",
        "\n",
        "### **3. Premium Sleep and Heart Rate Insights**\n",
        "Since sleep duration showed a positive relationship with next-day calorie burn and heart rate trends aligned with workout intensity, the business has an opportunity to monetize these insights. Premium features can include advanced sleep analysis, recovery scores, smart wake-up alerts, and heart rate zone training. These features add measurable value to users looking for in-depth wellness tracking, while also providing a new revenue stream through subscription tiers or upsell plans.\n",
        "\n",
        "### **4. Enhance Trust Through Data Transparency**\n",
        "Users depend on fitness trackers for reliable feedback, so maintaining data integrity and transparency is critical. Outliers in heart rate or calorie burn data, if unexplained, can erode user trust. To mitigate this, the platform can introduce “verified data” badges for sessions with complete and clean sensor readings. In addition, brief educational popups or tooltips explaining how estimates are calculated will help demystify the data. These steps reinforce the platform’s credibility and user confidence.\n",
        "\n",
        "### **5. Redefine Achievements to Reflect Real Progress**\n",
        "Some metrics, such as “lightly active minutes,” showed little correlation with actual calorie burn or meaningful health outcomes. To maintain motivation and relevance, the app should redefine rewards and badges to reflect more significant milestones. Examples include recognizing improved resting heart rate over time or consistently meeting weekly step targets. Aligning achievements with real health progress makes rewards more meaningful and ensures users feel they are making valuable improvements, not just collecting superficial badges.\n",
        "\n",
        "\n",
        "\n",
        "\n",
        "\n",
        "\n",
        "\n",
        "\n"
      ],
      "metadata": {
        "id": "JC_MC3gwk199"
      }
    },
    {
      "cell_type": "markdown",
      "source": [
        "# **Conclusion**"
      ],
      "metadata": {
        "id": "gCX9965dhzqZ"
      }
    },
    {
      "cell_type": "markdown",
      "source": [
        "The analysis of fitness tracker data has uncovered valuable insights into user behavior, engagement patterns, and health trends. By strategically leveraging these findings, the business can make data-informed decisions to enhance user experience, drive consistent engagement, and open new revenue opportunities. Personalized coaching, targeted weekend campaigns, and premium health analytics can significantly improve retention and monetization. At the same time, increasing data transparency and redefining performance rewards will foster greater trust and motivation among users. With the right implementation, these actions can transform the app from a passive tracker into an active partner in every user’s fitness journey — resulting in stronger brand loyalty, healthier users, and sustained business growth."
      ],
      "metadata": {
        "id": "Fjb1IsQkh3yE"
      }
    }
  ]
}